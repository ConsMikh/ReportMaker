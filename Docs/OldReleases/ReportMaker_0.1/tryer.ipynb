{
 "cells": [
  {
   "cell_type": "code",
   "execution_count": 1,
   "metadata": {},
   "outputs": [],
   "source": [
    "import re"
   ]
  },
  {
   "cell_type": "code",
   "execution_count": 26,
   "metadata": {},
   "outputs": [],
   "source": [
    "match = re.search('[1-2]\\d{3}-[0-1]\\d-[0-3]\\d', '1999-19-32')\n"
   ]
  },
  {
   "cell_type": "code",
   "execution_count": 27,
   "metadata": {},
   "outputs": [
    {
     "data": {
      "text/plain": [
       "'1999-19-32'"
      ]
     },
     "execution_count": 27,
     "metadata": {},
     "output_type": "execute_result"
    }
   ],
   "source": [
    "match[0]"
   ]
  },
  {
   "cell_type": "code",
   "execution_count": 11,
   "metadata": {},
   "outputs": [],
   "source": [
    "import configparser\n",
    "config = configparser.ConfigParser()\n",
    "config['local_path'] = {\n",
    "                        'week_report': 'D:\\\\3. Михайлов\\\\Develop\\\\PythonTraining\\\\PythonTraining\\\\ObsidianAnalys\\\\ReportMaker_1.0\\\\Reports',\n",
    "                        'daily_notes': 'D:\\\\3. Михайлов\\\\Develop\\\\PythonTraining\\\\PythonTraining\\\\ObsidianAnalys\\\\ReportMaker_1.0\\\\DailyNotes',\n",
    "                        'kbase_notes': 'D:\\\\3. Михайлов\\\\Develop\\\\PythonTraining\\\\PythonTraining\\\\ObsidianAnalys\\\\ReportMaker_1.0\\\\KBase'}\n",
    "config['analyst'] = {\n",
    "    'norma_pom': 14\n",
    "}"
   ]
  },
  {
   "cell_type": "code",
   "execution_count": 12,
   "metadata": {},
   "outputs": [],
   "source": [
    "with open('setting.ini', 'w') as f:\n",
    "    config.write(f)"
   ]
  },
  {
   "cell_type": "code",
   "execution_count": 9,
   "metadata": {},
   "outputs": [
    {
     "data": {
      "text/plain": [
       "['setting.ini']"
      ]
     },
     "execution_count": 9,
     "metadata": {},
     "output_type": "execute_result"
    }
   ],
   "source": [
    "conf = configparser.ConfigParser()\n",
    "conf.read('setting.ini')"
   ]
  },
  {
   "cell_type": "code",
   "execution_count": 10,
   "metadata": {},
   "outputs": [
    {
     "data": {
      "text/plain": [
       "''"
      ]
     },
     "execution_count": 10,
     "metadata": {},
     "output_type": "execute_result"
    }
   ],
   "source": [
    "conf['local_path']['week_report']"
   ]
  },
  {
   "cell_type": "code",
   "execution_count": 13,
   "metadata": {},
   "outputs": [],
   "source": [
    "import configparser\n",
    "config = configparser.ConfigParser()\n",
    "config.add_section(\"local_path\")\n",
    "config.set(\"local_path\", \"week_report\", \"D:\\\\1\\\\Reports\")"
   ]
  },
  {
   "cell_type": "code",
   "execution_count": 14,
   "metadata": {},
   "outputs": [],
   "source": [
    "with open('setting.ini', \"w\") as config_file:\n",
    "    config.write(config_file)"
   ]
  },
  {
   "cell_type": "code",
   "execution_count": 10,
   "metadata": {},
   "outputs": [],
   "source": [
    "from anytree import Node, Walker, Resolver"
   ]
  },
  {
   "cell_type": "code",
   "execution_count": 3,
   "metadata": {},
   "outputs": [],
   "source": [
    "udo = Node(\"Udo\")\n",
    "marc = Node(\"Marc\", parent=udo)\n",
    "lian = Node(\"Lian\", parent=marc)\n",
    "dan = Node(\"Dan\", parent=udo)\n",
    "jet = Node(\"Jet\", parent=dan)\n",
    "jan = Node(\"Jan\", parent=dan)\n",
    "joe = Node(\"Joe\", parent=dan)"
   ]
  },
  {
   "cell_type": "code",
   "execution_count": 5,
   "metadata": {},
   "outputs": [],
   "source": [
    "w = Walker()"
   ]
  },
  {
   "cell_type": "code",
   "execution_count": 9,
   "metadata": {},
   "outputs": [
    {
     "data": {
      "text/plain": [
       "((), Node('/Udo'), (Node('/Udo/Dan'), Node('/Udo/Dan/Joe')))"
      ]
     },
     "execution_count": 9,
     "metadata": {},
     "output_type": "execute_result"
    }
   ],
   "source": [
    "w.walk(udo, joe)"
   ]
  },
  {
   "cell_type": "code",
   "execution_count": null,
   "metadata": {},
   "outputs": [],
   "source": [
    "from functools import reduce"
   ]
  }
 ],
 "metadata": {
  "kernelspec": {
   "display_name": "Python 3.11.0 64-bit",
   "language": "python",
   "name": "python3"
  },
  "language_info": {
   "codemirror_mode": {
    "name": "ipython",
    "version": 3
   },
   "file_extension": ".py",
   "mimetype": "text/x-python",
   "name": "python",
   "nbconvert_exporter": "python",
   "pygments_lexer": "ipython3",
   "version": "3.11.0"
  },
  "orig_nbformat": 4,
  "vscode": {
   "interpreter": {
    "hash": "29cc90a2bea4b15c5a842ad39d9eddd2454531898d435b1cad43e6fdc378dd03"
   }
  }
 },
 "nbformat": 4,
 "nbformat_minor": 2
}
